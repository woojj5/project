{
 "cells": [
  {
   "cell_type": "code",
   "execution_count": 2,
   "metadata": {},
   "outputs": [],
   "source": [
    "from selenium import webdriver\n",
    "from tkinter import filedialog\n",
    "from tkinter import *\n",
    "from selenium.webdriver.common.keys import Keys\n",
    "import time\n",
    "from urllib import parse\n",
    "from selenium.common.exceptions import NoAlertPresentException, TimeoutException, UnexpectedAlertPresentException, NoSuchElementException"
   ]
  },
  {
   "cell_type": "code",
   "execution_count": 3,
   "metadata": {},
   "outputs": [],
   "source": [
    "root = Tk()\n",
    "root.filename  =  filedialog.askopenfilenames(initialdir =\"C:/\",title = \"choose your webdriver file\")\n",
    "root.withdraw()\n",
    "driver = webdriver.Chrome(''.join(root.filename))\n",
    "driver.get(\"https://webs.hufs.ac.kr/jsp/HUFS/seb/listCourseCatalog.jsp?campusGb=H2\")\n",
    "#크롤링시 순서대로 나오는 것은 편입생 대학 생활 안내, 신입생 생활 안내, 학기 수강편람 이 순서대로 구성된다.\n",
    "#driver.find_element_by_xpath('/html/body/table/tbody/tr[4]/td/table/tbody/tr[3]/td[1]').text \n",
    "driver.find_element_by_xpath('/html/body/table/tbody/tr[4]/td/table/tbody/tr[3]/td[3]').click()\n"
   ]
  },
  {
   "cell_type": "code",
   "execution_count": 4,
   "metadata": {},
   "outputs": [
    {
     "data": {
      "text/plain": [
       "True"
      ]
     },
     "execution_count": 4,
     "metadata": {},
     "output_type": "execute_result"
    }
   ],
   "source": [
    "driver.switch_to.window(driver.window_handles[1]) #탭 바꾸기\n",
    "driver.switch_to_default_content \n",
    "driver.switch_to.frame(driver.find_element_by_xpath('/html/frameset/frame'))\n",
    "ind = 6\n",
    "while(True):\n",
    "    if(ind == 0 ): break\n",
    "    else:\n",
    "        driver.find_element_by_xpath('//*[@id=\"MoveRightButton\"]').click()\n",
    "        time.sleep(2)\n",
    "        ind-=1\n",
    "screenshot_name = \"my_screenshot_name.png\"\n",
    "driver.save_screenshot(screenshot_name)"
   ]
  },
  {
   "cell_type": "code",
   "execution_count": 5,
   "metadata": {},
   "outputs": [],
   "source": [
    "from PIL import Image\n",
    "from pytesseract import *\n",
    "\n",
    "image = Image.open(screenshot_name)\n",
    "text = image_to_string(image,lang = \"kor\")\n",
    "\n",
    "with open(\"sample.txt\", \"w\") as f :\n",
    "    f.write(text)"
   ]
  },
  {
   "cell_type": "code",
   "execution_count": null,
   "metadata": {},
   "outputs": [],
   "source": []
  }
 ],
 "metadata": {
  "kernelspec": {
   "display_name": "Python 3",
   "language": "python",
   "name": "python3"
  },
  "language_info": {
   "codemirror_mode": {
    "name": "ipython",
    "version": 3
   },
   "file_extension": ".py",
   "mimetype": "text/x-python",
   "name": "python",
   "nbconvert_exporter": "python",
   "pygments_lexer": "ipython3",
   "version": "3.7.6"
  }
 },
 "nbformat": 4,
 "nbformat_minor": 4
}
