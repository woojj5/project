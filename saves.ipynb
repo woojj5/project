{
 "cells": [
  {
   "cell_type": "code",
   "execution_count": null,
   "metadata": {},
   "outputs": [],
   "source": [
    "from selenium import webdriver\n",
    "from selenium.webdriver.common.alert import Alert\n",
    "from selenium.common.exceptions import NoAlertPresentException, TimeoutException, UnexpectedAlertPresentException\n",
    "from selenium.webdriver.support import expected_conditions as EC"
   ]
  },
  {
   "cell_type": "code",
   "execution_count": null,
   "metadata": {},
   "outputs": [],
   "source": [
    "print(\"학번을 입력하세요\")\n",
    "ssn= input()\n",
    "print(\"비밀번호(생년월일)을 입력하세요\")\n",
    "bd = input()\n",
    "#driver = webdriver.Chrome(r'webdriver의 경로')\n",
    "#웹드라이버 경로\n",
    "driver.get(\"http://wis.hufs.ac.kr/src08/jsp/index.jsp\")\n",
    "driver.find_element_by_name('user_id').send_keys(str(ssn))\n",
    "driver.find_element_by_name('password').send_keys(str(bd))\n",
    "driver.execute_script('onLogin()')\n",
    "if(driver.current_url == \"https://wis.hufs.ac.kr/src08/jsp/login/ValidPw.jsp?userId=jK1g2xT8Qtrs6jOiLz9u%2Bg%3D%3D&d=null&msg=%20&reurl=&REGNO=&ERPID=\" + str(ssn)):\n",
    "    driver.execute_script('javascript:f_chgPwNext()')\n",
    "    ##driver.implicitly_wait(3)\n",
    "    cnt = 0\n",
    "    while(cnt == 0):\n",
    "        try: driver.switch_to_alert().dismiss()\n",
    "        except NoAlertPresentException as e: pass\n",
    "        except UnexpectedAlertPresentException as e: cnt+=1"
   ]
  }
 ],
 "metadata": {
  "kernelspec": {
   "display_name": "Python 3",
   "language": "python",
   "name": "python3"
  },
  "language_info": {
   "codemirror_mode": {
    "name": "ipython",
    "version": 3
   },
   "file_extension": ".py",
   "mimetype": "text/x-python",
   "name": "python",
   "nbconvert_exporter": "python",
   "pygments_lexer": "ipython3",
   "version": "3.7.0"
  }
 },
 "nbformat": 4,
 "nbformat_minor": 2
}
