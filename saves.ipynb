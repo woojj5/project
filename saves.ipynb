{
 "cells": [
  {
   "cell_type": "code",
   "execution_count": 1,
   "metadata": {},
   "outputs": [],
   "source": [
    "from selenium import webdriver\n",
    "from selenium.webdriver.common.alert import Alert\n",
    "from selenium.webdriver.support.select import Select\n",
    "from selenium.common.exceptions import NoAlertPresentException, TimeoutException, UnexpectedAlertPresentException, NoSuchElementException\n",
    "from selenium.webdriver.support import expected_conditions as EC\n",
    "import getpass\n",
    "from tkinter import filedialog\n",
    "from tkinter import *\n",
    "from selenium.webdriver.common.action_chains import ActionChains\n",
    "from bs4 import BeautifulSoup\n",
    "import requests"
   ]
  },
  {
   "cell_type": "code",
   "execution_count": 2,
   "metadata": {},
   "outputs": [
    {
     "name": "stdout",
     "output_type": "stream",
     "text": [
      "학번을 입력하세요\n",
      "201401770\n",
      "Password: ········\n"
     ]
    }
   ],
   "source": [
    "list_coarse = [\"전체보기(View all)\", \"이중전공\", \"2전공\", \"부전공\", \"실용외국어\", \"교양\", \"교직\", \"자선\"]\n",
    "root = Tk()\n",
    "root.filename  =  filedialog.askopenfilenames(initialdir =\"C:/\",title = \"choose your webdriver file\")\n",
    "root.withdraw()\n",
    "print(\"학번을 입력하세요\")\n",
    "ssn= input()\n",
    "bd = getpass.getpass('Password: ')\n",
    "#driver = webdriver.Chrome(executable_path= root.filename, options=options)\n",
    "driver = webdriver.Chrome(executable_path= ''.join(root.filename))\n",
    "#웹드라이버 경로\n",
    "driver.get(\"http://wis.hufs.ac.kr/src08/jsp/index.jsp\")\n",
    "driver.find_element_by_name('user_id').send_keys(str(ssn))\n",
    "driver.find_element_by_name('password').send_keys(str(bd))\n",
    "driver.execute_script('onLogin()')\n",
    "if(driver.current_url == \"https://wis.hufs.ac.kr/src08/jsp/login/ValidPw.jsp?userId=jK1g2xT8Qtrs6jOiLz9u%2Bg%3D%3D&d=null&msg=%20&reurl=&REGNO=&ERPID=\" + str(ssn)):\n",
    "    driver.execute_script('javascript:f_chgPwNext()')\n",
    "    cnt = 0\n",
    "    while(cnt == 0):\n",
    "        try: \n",
    "            driver.switch_to.alert().dismiss()\n",
    "            break\n",
    "        except NoAlertPresentException as e: \n",
    "            pass\n",
    "            break\n",
    "        except UnexpectedAlertPresentException as e: cnt+=1\n",
    "try:\n",
    "    driver.switch_to.frame('left')\n",
    "    driver.find_element_by_xpath('/html/body/div/div[2]/div')\n",
    "    driver.switch_to.frame('MenuFrame')\n",
    "    driver.find_element_by_xpath('/html/body/div/a[4]').click()\n",
    "    driver.find_element_by_xpath('//*[@id=\"div23\"]/a[2]').click()\n",
    "    driver.execute_script(\"return fnWisMLog('/src08/jsp/grade/GRADE1030L_Main.jsp?tab_lang=K|성적취득현황')\")\n",
    "except NoSuchElementException as e: print(\"no such element is in this page\")"
   ]
  },
  {
   "cell_type": "code",
   "execution_count": null,
   "metadata": {},
   "outputs": [],
   "source": []
  }
 ],
 "metadata": {
  "kernelspec": {
   "display_name": "Python 3",
   "language": "python",
   "name": "python3"
  },
  "language_info": {
   "codemirror_mode": {
    "name": "ipython",
    "version": 3
   },
   "file_extension": ".py",
   "mimetype": "text/x-python",
   "name": "python",
   "nbconvert_exporter": "python",
   "pygments_lexer": "ipython3",
   "version": "3.7.6"
  }
 },
 "nbformat": 4,
 "nbformat_minor": 2
}
