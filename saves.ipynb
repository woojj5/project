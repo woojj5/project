{
 "cells": [
  {
   "cell_type": "code",
   "execution_count": 22,
   "metadata": {},
   "outputs": [],
   "source": [
    "from selenium import webdriver\n",
    "from selenium.webdriver.common.alert import Alert\n",
    "from selenium.webdriver.support.select import Select\n",
    "from selenium.common.exceptions import NoAlertPresentException, TimeoutException, UnexpectedAlertPresentException, NoSuchElementException\n",
    "from selenium.webdriver.support import expected_conditions as EC\n",
    "import getpass\n",
    "from tkinter import filedialog\n",
    "from tkinter import *\n",
    "from selenium.webdriver.common.action_chains import ActionChains\n",
    "from bs4 import BeautifulSoup\n",
    "from pprint import pprint\n",
    "import requests\n",
    "import time\n",
    "from selenium.webdriver.support.ui import Select\n",
    "from bs4 import BeautifulSoup"
   ]
  },
  {
   "cell_type": "code",
   "execution_count": 23,
   "metadata": {},
   "outputs": [
    {
     "name": "stdout",
     "output_type": "stream",
     "text": [
      "학번을 입력하세요\n",
      "201401770\n",
      "Password: ········\n",
      "신찬엽\n",
      "디지털정보공학과\n",
      "TESOL영어학 (TESOL & English Linguistics)\n",
      "1전공\n"
     ]
    },
    {
     "ename": "IndexError",
     "evalue": "list index out of range",
     "output_type": "error",
     "traceback": [
      "\u001b[0;31m---------------------------------------------------------------------------\u001b[0m",
      "\u001b[0;31mIndexError\u001b[0m                                Traceback (most recent call last)",
      "\u001b[0;32m<ipython-input-23-730d38b056aa>\u001b[0m in \u001b[0;36m<module>\u001b[0;34m\u001b[0m\n\u001b[1;32m     86\u001b[0m     \u001b[0;32mif\u001b[0m \u001b[0;34m(\u001b[0m\u001b[0mlen\u001b[0m\u001b[0;34m(\u001b[0m\u001b[0mtag\u001b[0m\u001b[0;34m.\u001b[0m\u001b[0mtext\u001b[0m\u001b[0;34m)\u001b[0m \u001b[0;34m==\u001b[0m \u001b[0;36m1\u001b[0m \u001b[0;32mand\u001b[0m \u001b[0mtag\u001b[0m\u001b[0;34m.\u001b[0m\u001b[0mtext\u001b[0m \u001b[0;34m!=\u001b[0m \u001b[0;34m'재'\u001b[0m\u001b[0;34m)\u001b[0m\u001b[0;34m:\u001b[0m \u001b[0mlist_cal2\u001b[0m\u001b[0;34m.\u001b[0m\u001b[0mappend\u001b[0m\u001b[0;34m(\u001b[0m\u001b[0mfloat\u001b[0m\u001b[0;34m(\u001b[0m\u001b[0mtag\u001b[0m\u001b[0;34m.\u001b[0m\u001b[0mtext\u001b[0m\u001b[0;34m)\u001b[0m\u001b[0;34m)\u001b[0m\u001b[0;34m\u001b[0m\u001b[0;34m\u001b[0m\u001b[0m\n\u001b[1;32m     87\u001b[0m \u001b[0ms\u001b[0m \u001b[0;34m=\u001b[0m \u001b[0;36m0\u001b[0m\u001b[0;34m;\u001b[0m\u001b[0;34m\u001b[0m\u001b[0;34m\u001b[0m\u001b[0m\n\u001b[0;32m---> 88\u001b[0;31m \u001b[0;32mfor\u001b[0m \u001b[0mi\u001b[0m \u001b[0;32min\u001b[0m \u001b[0mrange\u001b[0m\u001b[0;34m(\u001b[0m\u001b[0mlen\u001b[0m\u001b[0;34m(\u001b[0m\u001b[0mlist_cal2\u001b[0m\u001b[0;34m)\u001b[0m\u001b[0;34m)\u001b[0m\u001b[0;34m:\u001b[0m \u001b[0ms\u001b[0m \u001b[0;34m=\u001b[0m  \u001b[0ms\u001b[0m \u001b[0;34m+\u001b[0m \u001b[0;34m(\u001b[0m\u001b[0mlist_cal2\u001b[0m\u001b[0;34m[\u001b[0m\u001b[0mi\u001b[0m\u001b[0;34m]\u001b[0m \u001b[0;34m*\u001b[0m \u001b[0mlist_cal\u001b[0m\u001b[0;34m[\u001b[0m\u001b[0mi\u001b[0m\u001b[0;34m]\u001b[0m\u001b[0;34m)\u001b[0m\u001b[0;34m\u001b[0m\u001b[0;34m\u001b[0m\u001b[0m\n\u001b[0m\u001b[1;32m     89\u001b[0m \u001b[0mprint\u001b[0m\u001b[0;34m(\u001b[0m\u001b[0ms\u001b[0m\u001b[0;34m/\u001b[0m \u001b[0msum\u001b[0m\u001b[0;34m(\u001b[0m\u001b[0mlist_cal2\u001b[0m\u001b[0;34m)\u001b[0m\u001b[0;34m)\u001b[0m\u001b[0;34m\u001b[0m\u001b[0;34m\u001b[0m\u001b[0m\n",
      "\u001b[0;31mIndexError\u001b[0m: list index out of range"
     ]
    }
   ],
   "source": [
    "root = Tk()\n",
    "root.filename  =  filedialog.askopenfilenames(initialdir =\"C:/\",title = \"choose your webdriver file\")\n",
    "root.withdraw()\n",
    "print(\"학번을 입력하세요\")\n",
    "ssn= input()\n",
    "bd = getpass.getpass('Password: ')\n",
    "#driver = webdriver.Chrome(executable_path= root.filename, options=options)\n",
    "driver = webdriver.Chrome(executable_path= ''.join(root.filename))\n",
    "#웹드라이버 경로\n",
    "driver.get(\"http://wis.hufs.ac.kr/src08/jsp/index.jsp\")\n",
    "driver.find_element_by_name('user_id').send_keys(str(ssn))\n",
    "driver.find_element_by_name('password').send_keys(str(bd))\n",
    "driver.execute_script('onLogin()')\n",
    "# if(driver.current_url == \"https://wis.hufs.ac.kr/src08/jsp/login/ValidPw.jsp?userId=jK1g2xT8Qtrs6jOiLz9u%2Bg%3D%3D&d=null&msg=%20&reurl=&REGNO=&ERPID=\" + str(ssn)):\n",
    "#     driver.execute_script('javascript:f_chgPwNext()')\n",
    "#     cnt = 0\n",
    "#     while(cnt == 0):\n",
    "#         try: \n",
    "#             driver.switch_to.alert().dismiss()\n",
    "#             break\n",
    "#         except NoAlertPresentException as e: \n",
    "#             pass\n",
    "#             break\n",
    "#         except UnexpectedAlertPresentException as e: cnt+=1\n",
    "if(driver.current_url != \"https://wis.hufs.ac.kr/src08/jsp/main.jsp?d=null\") :\n",
    "    while driver.current_url != \"https://wis.hufs.ac.kr/src08/jsp/main.jsp?d=null\" :\n",
    "        driver.close() # 팝업창 무시\n",
    "try:\n",
    "    driver.switch_to.frame('left')\n",
    "    driver.find_element_by_xpath('/html/body/div/div[2]/div')\n",
    "    driver.switch_to.frame('MenuFrame')\n",
    "    driver.find_element_by_xpath('/html/body/div/a[4]').click()\n",
    "    driver.find_element_by_xpath('//*[@id=\"div23\"]/a[2]').click()\n",
    "    driver.execute_script(\"return fnWisMLog('/src08/jsp/grade/GRADE1030L_Main.jsp?tab_lang=K|성적취득현황')\")\n",
    "except NoSuchElementException as e: print(\"no such element is in this page\")\n",
    "    \n",
    "driver.switch_to.default_content()\n",
    "driver.switch_to.frame('left')\n",
    "user_name = driver.find_element_by_xpath('/html/body/div/table[1]/tbody/tr/td/div[2]/table/tbody/tr[2]/td')\n",
    "print(user_name.text[2:]) # user name\n",
    "user_major = driver.find_element_by_xpath('/html/body/div/table[1]/tbody/tr/td/div[2]/table/tbody/tr[3]/td/p')\n",
    "print(user_major.text) # user major\n",
    "\n",
    "driver.switch_to.default_content()\n",
    "driver.switch_to.frame(driver.find_element_by_name('body'))\n",
    "driver.switch_to.frame(driver.find_element_by_name('top'))\n",
    "user_majors = driver.find_element_by_xpath('/html/body/div/form/div[2]/table/tbody/tr/td')\n",
    "\n",
    "user_major2 = user_majors.text.split(']')[-1][1:]\n",
    "\n",
    "print(user_major2) # user major2\n",
    "\n",
    "lista = [\"1전공\", \"이중전공\", \"2전공\", \"실외\", \"교양\", \"부전공\", \"교직\", \"자선\", \"총취득\", \"총평점\"]\n",
    "time.sleep(3)\n",
    "driver.switch_to.default_content()\n",
    "list_major = ['1전공', '이중전공', '2전공', '부전공', '실용외국어', '교양', '교직', '자선']\n",
    "list_major2 = ['10', '15', '20', '25', '30', '40', '60', '70']\n",
    "Grade = ['A+', 'A0', 'B+','B0', 'C+', 'C0', 'D+', 'D-', 'F' ]\n",
    "rate =  ['4.5', '4.0', '3.5', '3.0', '2.5', '2.0','1.5', '1.0' '0.0']\n",
    "\n",
    "search= input()\n",
    "search = str(search)\n",
    "find1 = ''\n",
    "for i in range(len(list_major)):\n",
    "    if search in list_major[i]: \n",
    "        find1 = find1 = list_major2[i]\n",
    "# /html/body/div/form/div[2]/table/tbody/tr[3]/td[6] \n",
    "#  3 ~ 끝까지 전부 \n",
    "# /html/body/div/form/div[2]/table/tbody/tr[3,:]/td[6]        \n",
    "try:\n",
    "    driver.switch_to.frame(driver.find_element_by_name('body'))\n",
    "    driver.switch_to.frame(driver.find_element_by_name('list'))\n",
    "    select = Select(driver.find_element_by_name('clss'))\n",
    "    select.select_by_value(find1)\n",
    "except NoSuchElementException as e: print(\"no such element is in this page\")\n",
    "html = driver.page_source\n",
    "bs = BeautifulSoup(html, 'html.parser')\n",
    "tags = bs.findAll('td')\n",
    "list_cal = []\n",
    "list_cal2 = []\n",
    "for tag in tags : \n",
    "    if (len(tag.text) == 2):\n",
    "        for i in range(len(Grade)):\n",
    "            if(Grade[i] in tag.text):\n",
    "                list_cal.append(float(rate[i]))\n",
    "    if (len(tag.text) == 1 and tag.text != '재'): list_cal2.append(float(tag.text))\n",
    "s = 0;\n",
    "for i in range(len(list_cal2)): s =  s + (list_cal2[i] * list_cal[i])\n",
    "print(s/ sum(list_cal2))"
   ]
  },
  {
   "cell_type": "code",
   "execution_count": 14,
   "metadata": {},
   "outputs": [],
   "source": [
    "import pandas as pd\n",
    "test = pd.read_csv('/Users/sinchan-yeob/Desktop/project/excel/2015-_공과대학.csv')"
   ]
  },
  {
   "cell_type": "code",
   "execution_count": 15,
   "metadata": {},
   "outputs": [
    {
     "name": "stdout",
     "output_type": "stream",
     "text": [
      "  Unnamed: 0  전공  이중전공  부전공  교양  자선  졸업학점 합계\n",
      "0       이중전공  54    42    0  32   6      134\n",
      "1        부전공  54     0   21  32  27      134\n",
      "2       전공심화  75     0    0  32  27      134\n",
      "3   전공심화+부전공  75     0   21  32   6      134\n"
     ]
    }
   ],
   "source": [
    "print(test)"
   ]
  },
  {
   "cell_type": "code",
   "execution_count": null,
   "metadata": {},
   "outputs": [],
   "source": []
  }
 ],
 "metadata": {
  "kernelspec": {
   "display_name": "Python 3",
   "language": "python",
   "name": "python3"
  },
  "language_info": {
   "codemirror_mode": {
    "name": "ipython",
    "version": 3
   },
   "file_extension": ".py",
   "mimetype": "text/x-python",
   "name": "python",
   "nbconvert_exporter": "python",
   "pygments_lexer": "ipython3",
   "version": "3.7.6"
  }
 },
 "nbformat": 4,
 "nbformat_minor": 2
}
